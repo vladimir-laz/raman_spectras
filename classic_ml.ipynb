{
 "cells": [
  {
   "cell_type": "code",
   "execution_count": 1,
   "id": "9a4fd2f6",
   "metadata": {},
   "outputs": [
    {
     "ename": "NameError",
     "evalue": "name 'y_fg' is not defined",
     "output_type": "error",
     "traceback": [
      "\u001b[0;31m---------------------------------------------------------------------------\u001b[0m",
      "\u001b[0;31mNameError\u001b[0m                                 Traceback (most recent call last)",
      "Input \u001b[0;32mIn [1]\u001b[0m, in \u001b[0;36m<module>\u001b[0;34m\u001b[0m\n\u001b[0;32m----> 1\u001b[0m \u001b[38;5;28mprint\u001b[39m(\u001b[38;5;124mf\u001b[39m\u001b[38;5;124m\"\u001b[39m\u001b[38;5;124mold fg classes: \u001b[39m\u001b[38;5;132;01m{\u001b[39;00m\u001b[38;5;28mset\u001b[39m(y_fg)\u001b[38;5;132;01m}\u001b[39;00m\u001b[38;5;124m\"\u001b[39m)\n\u001b[1;32m      2\u001b[0m \u001b[38;5;28;01mfor\u001b[39;00m index, element \u001b[38;5;129;01min\u001b[39;00m \u001b[38;5;28menumerate\u001b[39m(\u001b[38;5;28mset\u001b[39m(y_fg)):\n\u001b[1;32m      3\u001b[0m     y_fg[y_fg \u001b[38;5;241m==\u001b[39m element] \u001b[38;5;241m=\u001b[39m index\n",
      "\u001b[0;31mNameError\u001b[0m: name 'y_fg' is not defined"
     ]
    }
   ],
   "source": [
    "import pandas as pd\n",
    "import numpy as np\n",
    "from matplotlib import pyplot as plt\n",
    "from tqdm.notebook import tqdm\n",
    "\n",
    "import torch\n",
    "import torch.nn as nn\n",
    "from torch.utils.data import DataLoader\n",
    "import torch.optim as optim\n",
    "import torch.nn.functional as F\n",
    "from sklearn.model_selection import train_test_split\n",
    "\n",
    "# strainforfard peaks search\n",
    "import plotly.graph_objects as go\n",
    "from scipy.signal import find_peaks, savgol_filter\n",
    "\n",
    "# peaks search by gauss decomposition\n",
    "import gausspy\n",
    "import gausspy.gp as gp\n",
    "import pickle"
   ]
  },
  {
   "cell_type": "code",
   "execution_count": null,
   "id": "356a664c",
   "metadata": {},
   "outputs": [],
   "source": [
    "# ga_file = \"/content/drive/MyDrive/AIRI/RamanSpectra/ga_2_3_5_6.csv\"\n",
    "# fg_file = \"/content/drive/MyDrive/AIRI/RamanSpectra/fg_1-5_7-11.csv\"\n",
    "ga_file = \"dataSrc/ga_2_3_5_6.csv\"\n",
    "fg_file = \"dataSrc/fg_1-5_7-11.csv\"\n",
    "data_ga = pd.read_csv(ga_file, sep=\";\")\n",
    "print(f\"data with GA samples shape: {data_ga.shape}\")\n",
    "data_fg = pd.read_csv(fg_file, sep=\";\")\n",
    "print(f\"data with FG samples shape: {data_fg.shape}\")"
   ]
  },
  {
   "cell_type": "code",
   "execution_count": null,
   "id": "51edbce9",
   "metadata": {},
   "outputs": [],
   "source": [
    "y_fg = data_fg['class'].values\n",
    "X_fg = data_fg.drop(columns=['class'])\n",
    "print(f\"shapes of X and y of FG samples respectively is: {X_fg.shape}, {y_fg.shape}\")\n",
    "\n",
    "y_ga = data_ga['class'].values\n",
    "X_ga = data_ga.drop(columns=['class'])\n",
    "print(f\"shapes of X and y of GA samples respectively is: {X_ga.shape}, {y_ga.shape}\")"
   ]
  },
  {
   "cell_type": "code",
   "execution_count": null,
   "id": "8b07d23b",
   "metadata": {},
   "outputs": [],
   "source": [
    "print(f\"old fg classes: {set(y_fg)}\")\n",
    "for index, element in enumerate(set(y_fg)):\n",
    "    y_fg[y_fg == element] = index\n",
    "print(f\"new fg classes: {set(y_fg)}\\n\")\n",
    "\n",
    "print(f\"old ga classes: {set(y_ga)}\")\n",
    "for index, element in enumerate(set(y_ga)):\n",
    "    y_ga[y_ga == element] = index + len(set(y_fg))\n",
    "print(f\"new ga classes: {set(y_ga)}\")"
   ]
  },
  {
   "cell_type": "code",
   "execution_count": null,
   "id": "c89fbb9a",
   "metadata": {},
   "outputs": [],
   "source": [
    "group1 = [0, 1, 2, 3, 4]\n",
    "group2 = [5, 6, 7, 8, 9]\n",
    "group3 = [10, 11]\n",
    "group4 = [12, 13]\n",
    "groups = [group1, group2, group3, group4]\n",
    "\n",
    "def add_group(y, groups, add=0):\n",
    "    new_y = np.zeros((y.shape[0], 2))\n",
    "    new_y[:, 1] = y\n",
    "    for group_num, group in enumerate(groups):\n",
    "        for class_num in group:\n",
    "            new_y[y==class_num] = np.array([group_num + add, class_num])\n",
    "    return new_y\n",
    "\n",
    "y_ga = add_group(y_ga, (group3, group4), add=2)\n",
    "y_fg = add_group(y_fg, (group1, group2))\n",
    "print(f\"Now, shapes of y_fg and ga is respectively: {y_ga.shape}, {y_fg.shape}\")"
   ]
  },
  {
   "cell_type": "code",
   "execution_count": null,
   "id": "bd09038c",
   "metadata": {},
   "outputs": [],
   "source": [
    "y = np.concatenate((y_fg, y_ga), axis=0)\n",
    "X = np.concatenate((X_fg, X_ga), axis=0)\n",
    "X = X.reshape(X.shape[0], 1, -1)\n",
    "print(f\"shapes of X and y is respectively: {X.shape}, {y.shape}\")"
   ]
  },
  {
   "cell_type": "code",
   "execution_count": null,
   "id": "09536325",
   "metadata": {},
   "outputs": [],
   "source": [
    "X_train, X_test, y_train, y_test = train_test_split(X, y, test_size=0.2)"
   ]
  },
  {
   "cell_type": "code",
   "execution_count": null,
   "id": "590792f5",
   "metadata": {},
   "outputs": [],
   "source": [
    "data_loader_train = DataLoader(tuple(zip(torch.tensor(X_train).float(), torch.tensor(y_train).long())), \n",
    "                                      batch_size=16, \n",
    "                                      shuffle=True)\n",
    "data_loader_test = DataLoader(tuple(zip(torch.tensor(X_test).float(), torch.tensor(y_test).long())), \n",
    "                                     batch_size=16, \n",
    "                                     shuffle=False)"
   ]
  },
  {
   "cell_type": "code",
   "execution_count": null,
   "id": "73e0da78",
   "metadata": {},
   "outputs": [],
   "source": []
  },
  {
   "cell_type": "code",
   "execution_count": null,
   "id": "d0609bd2",
   "metadata": {},
   "outputs": [],
   "source": []
  },
  {
   "cell_type": "code",
   "execution_count": null,
   "id": "d28bab9d",
   "metadata": {},
   "outputs": [],
   "source": []
  },
  {
   "cell_type": "code",
   "execution_count": null,
   "id": "ffead8ac",
   "metadata": {},
   "outputs": [],
   "source": []
  }
 ],
 "metadata": {
  "kernelspec": {
   "display_name": "Python 3 (ipykernel)",
   "language": "python",
   "name": "python3"
  },
  "language_info": {
   "codemirror_mode": {
    "name": "ipython",
    "version": 3
   },
   "file_extension": ".py",
   "mimetype": "text/x-python",
   "name": "python",
   "nbconvert_exporter": "python",
   "pygments_lexer": "ipython3",
   "version": "3.9.7"
  }
 },
 "nbformat": 4,
 "nbformat_minor": 5
}
