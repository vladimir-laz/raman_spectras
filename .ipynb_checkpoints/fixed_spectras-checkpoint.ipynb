{
 "cells": [
  {
   "cell_type": "markdown",
   "id": "3d223c91",
   "metadata": {},
   "source": [
    "1. Ищем статьи, в которых разобраны методы для раман спектров.\n",
    "2. Посмотреть алгоритм декомпозиции на гауссианы. "
   ]
  },
  {
   "cell_type": "code",
   "execution_count": 1,
   "id": "b13b0922",
   "metadata": {},
   "outputs": [],
   "source": [
    "import pandas as pd\n",
    "import numpy as np\n",
    "from sklearn.model_selection import train_test_split\n",
    "from matplotlib import pyplot as plt\n",
    "import random"
   ]
  },
  {
   "cell_type": "code",
   "execution_count": 2,
   "id": "1b45be38",
   "metadata": {},
   "outputs": [
    {
     "name": "stderr",
     "output_type": "stream",
     "text": [
      "/home/lazarev/.local/lib/python3.7/site-packages/pkg_resources/__init__.py:125: PkgResourcesDeprecationWarning: 0.18ubuntu0.18.04.1 is an invalid version and will not be supported in a future release\n",
      "  PkgResourcesDeprecationWarning,\n"
     ]
    }
   ],
   "source": [
    "from utils import (\n",
    "    train_template,\n",
    "    get_metrics, \n",
    "    random_forest_train, \n",
    "    xgboost_train, \n",
    "    catboost_train\n",
    ")"
   ]
  },
  {
   "cell_type": "code",
   "execution_count": 3,
   "id": "039378ff",
   "metadata": {},
   "outputs": [
    {
     "name": "stdout",
     "output_type": "stream",
     "text": [
      "569 569\n"
     ]
    }
   ],
   "source": [
    "def fixed_data_loading(fg_file, ga_file):\n",
    "    y = []\n",
    "    X_raw = []\n",
    "    for filename in (fg_file, ga_file):\n",
    "        with open(filename, 'r') as f:\n",
    "            for line in f.readlines():\n",
    "                tmp_array = [float(i) for i in line.split(';')]\n",
    "                y.append(tmp_array[0])\n",
    "                X_raw.append(tmp_array[1:])\n",
    "    y = np.array(y)\n",
    "    for index, element in enumerate(set(y)):\n",
    "        y[y == element] = index\n",
    "        \n",
    "    return X_raw, y\n",
    "\n",
    "X_peaks, y = fixed_data_loading(\n",
    "    \"dataSrc/peaks-fg-105-sign_before-hydr.csv\",\n",
    "    \"dataSrc/peaks-fg-105-sign_after-hydr.csv\", \n",
    ")\n",
    "print(len(X_peaks), len(y))"
   ]
  },
  {
   "cell_type": "code",
   "execution_count": 4,
   "id": "87fda0ab",
   "metadata": {},
   "outputs": [],
   "source": [
    "# y"
   ]
  },
  {
   "cell_type": "code",
   "execution_count": 5,
   "id": "4c9cf8ca",
   "metadata": {},
   "outputs": [],
   "source": [
    "# def data_loading(ga_file, fg_file, header=None):\n",
    "#     data_ga = pd.read_csv(ga_file, sep=\";\", header=header)\n",
    "#     data_fg = pd.read_csv(fg_file, sep=\";\", header=header)\n",
    "#     columns = data_ga.columns.values\n",
    "    \n",
    "#     y_fg = data_fg[columns[0]].values\n",
    "#     X_fg = data_fg.drop(columns=columns[0])\n",
    "\n",
    "#     y_ga = data_ga[columns[0]].values\n",
    "#     X_ga = data_ga.drop(columns=columns[0])\n",
    "    \n",
    "#     y = np.concatenate((y_fg, y_ga), axis=0)\n",
    "#     X = np.concatenate((X_fg, X_ga), axis=0)\n",
    "    \n",
    "#     x_axis = columns[1:][: : -1].astype(float)\n",
    "    \n",
    "#     return X, y, x_axis\n",
    "\n",
    "def data_loading(ga_file, fg_file, header=None):\n",
    "    data_fg = pd.read_csv(fg_file, sep=\";\", header=header)\n",
    "    columns = data_fg.columns.values\n",
    "    \n",
    "    y_fg = data_fg[columns[0]].values\n",
    "    X_fg = data_fg.drop(columns=columns[0]).values\n",
    "    \n",
    "    for index, element in enumerate(set(y_fg)):\n",
    "        y_fg[y_fg == element] = index\n",
    "        \n",
    "    x_axis = columns[1:][: : -1].astype(float)\n",
    "    \n",
    "    return X_fg, y_fg, x_axis\n",
    "\n",
    "spectras, spectra_labels, x_axis = data_loading(\n",
    "    \"dataSrc/ga_2_3_5_6.csv\", \n",
    "    \"dataSrc/fg_1-5_7-11.csv\",\n",
    "    'infer'\n",
    ")"
   ]
  },
  {
   "cell_type": "code",
   "execution_count": 6,
   "id": "0b3550fa",
   "metadata": {},
   "outputs": [
    {
     "data": {
      "text/plain": [
       "(569, 994)"
      ]
     },
     "execution_count": 6,
     "metadata": {},
     "output_type": "execute_result"
    }
   ],
   "source": [
    "spectras.shape"
   ]
  },
  {
   "cell_type": "code",
   "execution_count": 7,
   "id": "567f0232",
   "metadata": {},
   "outputs": [],
   "source": [
    "# spectra_labels == y"
   ]
  },
  {
   "cell_type": "code",
   "execution_count": 8,
   "id": "c80a6109",
   "metadata": {},
   "outputs": [
    {
     "data": {
      "text/plain": [
       "3.6908999999998287"
      ]
     },
     "execution_count": 8,
     "metadata": {},
     "output_type": "execute_result"
    }
   ],
   "source": [
    "def find_min_peak_distance(X):\n",
    "    min_distance = max(X[0])\n",
    "    for j, spectra in enumerate(X):\n",
    "        for index in range(len(spectra[:-1])):\n",
    "#             spectra.sort()\n",
    "            if spectra[index+1] - spectra[index] < min_distance:\n",
    "#                 print(spectra[index+1] - spectra[index], spectra[index+1], spectra[index], j)\n",
    "                min_distance = spectra[index+1] - spectra[index]\n",
    "    return min_distance\n",
    "\n",
    "min_distance = find_min_peak_distance(X_peaks)\n",
    "min_distance"
   ]
  },
  {
   "cell_type": "code",
   "execution_count": 9,
   "id": "ca9bace0",
   "metadata": {},
   "outputs": [],
   "source": [
    "def create_grid(x_axis, min_distance):\n",
    "    result_grid = [x_axis[0]]\n",
    "#     print(result_grid)\n",
    "    for index, element in enumerate(x_axis):\n",
    "        if result_grid[-1] + min_distance < element:\n",
    "            result_grid.append(x_axis[index-1])\n",
    "    return np.array(result_grid)\n",
    "\n",
    "result_grid = create_grid(x_axis, min_distance)"
   ]
  },
  {
   "cell_type": "code",
   "execution_count": 10,
   "id": "f369f368",
   "metadata": {},
   "outputs": [],
   "source": [
    "def fill_the_grid(result_grid, X_peaks):\n",
    "    filled_grid = np.zeros((len(X_peaks), result_grid.shape[0]-1))\n",
    "#     print(filled_grid.shape)\n",
    "    for index, peaks in enumerate(X_peaks):\n",
    "        start_point = 0\n",
    "        peak_num = 0\n",
    "#         while start_point != result_grid[-1]:\n",
    "        while peak_num < len(peaks):\n",
    "#             print(peak_num, start_point, peaks[peak_num], result_grid[start_point])\n",
    "            if peaks[peak_num] < result_grid[start_point]:\n",
    "#                 filled_grid[index][start_point-1] = 1\n",
    "                filled_grid[index][start_point-1] = peaks[peak_num]\n",
    "                peak_num += 1\n",
    "            start_point += 1\n",
    "#     for i in range(filled_grid.shape[1] - 1, -1, -1):\n",
    "# #         print(i)\n",
    "#         if filled_grid[:, i].sum() == 0:\n",
    "#             filled_grid = np.delete(filled_grid, i, 1)\n",
    "    \n",
    "    return filled_grid\n",
    "\n",
    "\n",
    "# filled_grid = fill_the_grid(result_grid, X_peaks)\n",
    "filled_grid = fill_the_grid(x_axis, X_peaks)"
   ]
  },
  {
   "cell_type": "code",
   "execution_count": null,
   "id": "1152000a",
   "metadata": {},
   "outputs": [],
   "source": []
  },
  {
   "cell_type": "code",
   "execution_count": 11,
   "id": "e9458f64",
   "metadata": {},
   "outputs": [
    {
     "name": "stdout",
     "output_type": "stream",
     "text": [
      "number of peaks: 96, number of spectra: 107\n"
     ]
    },
    {
     "name": "stderr",
     "output_type": "stream",
     "text": [
      "/home/lazarev/.local/lib/python3.7/site-packages/ipykernel_launcher.py:8: FutureWarning: Using a non-tuple sequence for multidimensional indexing is deprecated; use `arr[tuple(seq)]` instead of `arr[seq]`. In the future this will be interpreted as an array index, `arr[np.array(seq)]`, which will result either in an error or a different result.\n",
      "  \n"
     ]
    },
    {
     "data": {
      "image/png": "[encoded data removed]",
      "text/plain": [
       "<Figure size 1224x648 with 1 Axes>"
      ]
     },
     "metadata": {
      "needs_background": "light"
     },
     "output_type": "display_data"
    }
   ],
   "source": [
    "# index = random.choice(np.arange(filled_grid.shape[0]))\n",
    "index = 107\n",
    "plt.figure(figsize = (17, 9))\n",
    "plt.plot(x_axis, spectras[index])\n",
    "print(f'number of peaks: {filled_grid[index][filled_grid[index] != 0].shape[0]}, number of spectra: {index}')\n",
    "plt.scatter(\n",
    "    filled_grid[index][filled_grid[index] != 0], \n",
    "    (np.ones_like(filled_grid[index]) * spectras[index][:-1])[[filled_grid[index] != 0]],\n",
    "    c='r'\n",
    ")\n",
    "plt.show()\n",
    "# for i in range(filled_grid[index].shape[0]):\n",
    "#     print(result_grid[i], filled_grid[index][i], result_grid[i+1])"
   ]
  },
  {
   "cell_type": "code",
   "execution_count": 472,
   "id": "c0de180d",
   "metadata": {},
   "outputs": [],
   "source": [
    "X, y = filled_grid, y.reshape(-1, 1)"
   ]
  },
  {
   "cell_type": "code",
   "execution_count": 473,
   "id": "bc8055b4",
   "metadata": {},
   "outputs": [
    {
     "data": {
      "text/plain": [
       "(569, 2)"
      ]
     },
     "execution_count": 473,
     "metadata": {},
     "output_type": "execute_result"
    }
   ],
   "source": [
    "y = np.concatenate((np.zeros_like(y), y), axis=1)\n",
    "y.shape"
   ]
  },
  {
   "cell_type": "code",
   "execution_count": 474,
   "id": "e93252a3",
   "metadata": {},
   "outputs": [],
   "source": [
    "def train_models(\n",
    "    data,\n",
    "    labels,\n",
    "    num_estimators = 1000,\n",
    "    def_tuple=(random_forest_train, xgboost_train, catboost_train), \n",
    "    description_tuple=None, \n",
    "    file_names_tuple=None,\n",
    "):\n",
    "    print(data.shape, labels.shape)\n",
    "    metrics_array = []\n",
    "    for index, func in enumerate(def_tuple):\n",
    "        metrics, _ = func(\n",
    "            data=data, \n",
    "            y=labels, \n",
    "            k_folds=5,\n",
    "            num_estimators=num_estimators, \n",
    "            description=None if description_tuple is None else description_tuple[index], \n",
    "            class_type='class', \n",
    "            calc_metrics=True,\n",
    "            file_name=None if file_names_tuple is None else file_names_tuple[index]\n",
    "        )\n",
    "        metrics_array.append(metrics)\n",
    "    return metrics_array"
   ]
  },
  {
   "cell_type": "code",
   "execution_count": 475,
   "id": "a0b1a73d",
   "metadata": {},
   "outputs": [],
   "source": [
    "# spectras.reshape(-1, 1, spectras.shape[1]).shape"
   ]
  },
  {
   "cell_type": "code",
   "execution_count": 476,
   "id": "eeb1cee5",
   "metadata": {},
   "outputs": [],
   "source": [
    "# from time import time\n",
    "# seed = int(time())\n",
    "# np.random.seed(seed=seed)\n",
    "# np.random.shuffle(spectras)\n",
    "# np.random.seed(seed=seed)\n",
    "# np.random.shuffle(y)"
   ]
  },
  {
   "cell_type": "code",
   "execution_count": 477,
   "id": "170e6f90",
   "metadata": {},
   "outputs": [
    {
     "data": {
      "text/plain": [
       "(569, 993)"
      ]
     },
     "execution_count": 477,
     "metadata": {},
     "output_type": "execute_result"
    }
   ],
   "source": [
    "X.shape"
   ]
  },
  {
   "cell_type": "code",
   "execution_count": 478,
   "id": "43b8ea80",
   "metadata": {},
   "outputs": [
    {
     "data": {
      "text/plain": [
       "array([0.38596491, 0.43859649, 0.45614035, 0.40350877, 0.47368421,\n",
       "       0.57894737, 0.52631579, 0.50877193, 0.49122807, 0.51785714])"
      ]
     },
     "execution_count": 478,
     "metadata": {},
     "output_type": "execute_result"
    }
   ],
   "source": [
    "from sklearn.model_selection import cross_val_score\n",
    "from sklearn.tree import DecisionTreeClassifier\n",
    "clf = DecisionTreeClassifier(random_state=0, max_depth=20)\n",
    "cross_val_score(clf, X, spectra_labels, cv=10)"
   ]
  },
  {
   "cell_type": "code",
   "execution_count": 479,
   "id": "4deda3e4",
   "metadata": {},
   "outputs": [
    {
     "name": "stdout",
     "output_type": "stream",
     "text": [
      "(569, 993) (569, 2)\n",
      "Metrics on the first dataset with 35 gaussian peaks using RandomForest:\n",
      "mean accuracy           = 0.58 +- 0.048\n",
      "mean f1 weighted        = 0.573 +- 0.042\n",
      "mean precision weighted = 0.596 +- 0.044\n",
      "mean recall weighted    = 0.58 +- 0.048\n",
      "mean f1 macro           = 0.566 +- 0.036\n",
      "mean precision macro    = 0.597 +- 0.037\n",
      "mean recall macro       = 0.571 +- 0.046\n",
      "\n",
      "    \n",
      "Metrics on the first dataset with 35 gaussian peaks using XGBoost:\n",
      "mean accuracy           = 0.719 +- 0.031\n",
      "mean f1 weighted        = 0.718 +- 0.03\n",
      "mean precision weighted = 0.733 +- 0.026\n",
      "mean recall weighted    = 0.719 +- 0.031\n",
      "mean f1 macro           = 0.705 +- 0.026\n",
      "mean precision macro    = 0.724 +- 0.022\n",
      "mean recall macro       = 0.705 +- 0.026\n",
      "\n",
      "    \n"
     ]
    },
    {
     "ename": "KeyboardInterrupt",
     "evalue": "",
     "output_type": "error",
     "traceback": [
      "\u001b[0;31m---------------------------------------------------------------------------\u001b[0m",
      "\u001b[0;31mKeyboardInterrupt\u001b[0m                         Traceback (most recent call last)",
      "\u001b[0;32m/tmp/ipykernel_8894/2029596181.py\u001b[0m in \u001b[0;36m<module>\u001b[0;34m\u001b[0m\n\u001b[1;32m     22\u001b[0m     \u001b[0mdef_tuple\u001b[0m\u001b[0;34m=\u001b[0m\u001b[0mdef_tuple\u001b[0m\u001b[0;34m,\u001b[0m\u001b[0;34m\u001b[0m\u001b[0;34m\u001b[0m\u001b[0m\n\u001b[1;32m     23\u001b[0m     \u001b[0mdescription_tuple\u001b[0m\u001b[0;34m=\u001b[0m\u001b[0mdescription_tuple\u001b[0m\u001b[0;34m,\u001b[0m\u001b[0;34m\u001b[0m\u001b[0;34m\u001b[0m\u001b[0m\n\u001b[0;32m---> 24\u001b[0;31m     \u001b[0mfile_names_tuple\u001b[0m\u001b[0;34m=\u001b[0m\u001b[0mfile_names_tuple\u001b[0m\u001b[0;34m\u001b[0m\u001b[0;34m\u001b[0m\u001b[0m\n\u001b[0m\u001b[1;32m     25\u001b[0m )\n",
      "\u001b[0;32m/tmp/ipykernel_8894/572128166.py\u001b[0m in \u001b[0;36mtrain_models\u001b[0;34m(data, labels, num_estimators, def_tuple, description_tuple, file_names_tuple)\u001b[0m\n\u001b[1;32m     18\u001b[0m             \u001b[0mclass_type\u001b[0m\u001b[0;34m=\u001b[0m\u001b[0;34m'class'\u001b[0m\u001b[0;34m,\u001b[0m\u001b[0;34m\u001b[0m\u001b[0;34m\u001b[0m\u001b[0m\n\u001b[1;32m     19\u001b[0m             \u001b[0mcalc_metrics\u001b[0m\u001b[0;34m=\u001b[0m\u001b[0;32mTrue\u001b[0m\u001b[0;34m,\u001b[0m\u001b[0;34m\u001b[0m\u001b[0;34m\u001b[0m\u001b[0m\n\u001b[0;32m---> 20\u001b[0;31m             \u001b[0mfile_name\u001b[0m\u001b[0;34m=\u001b[0m\u001b[0;32mNone\u001b[0m \u001b[0;32mif\u001b[0m \u001b[0mfile_names_tuple\u001b[0m \u001b[0;32mis\u001b[0m \u001b[0;32mNone\u001b[0m \u001b[0;32melse\u001b[0m \u001b[0mfile_names_tuple\u001b[0m\u001b[0;34m[\u001b[0m\u001b[0mindex\u001b[0m\u001b[0;34m]\u001b[0m\u001b[0;34m\u001b[0m\u001b[0;34m\u001b[0m\u001b[0m\n\u001b[0m\u001b[1;32m     21\u001b[0m         )\n\u001b[1;32m     22\u001b[0m         \u001b[0mmetrics_array\u001b[0m\u001b[0;34m.\u001b[0m\u001b[0mappend\u001b[0m\u001b[0;34m(\u001b[0m\u001b[0mmetrics\u001b[0m\u001b[0;34m)\u001b[0m\u001b[0;34m\u001b[0m\u001b[0;34m\u001b[0m\u001b[0m\n",
      "\u001b[0;32m~/raman_spectras/raman_spectras/utils.py\u001b[0m in \u001b[0;36mcatboost_train\u001b[0;34m(data, y, k_folds, num_estimators, description, class_type, calc_metrics, file_name)\u001b[0m\n\u001b[1;32m    377\u001b[0m         \u001b[0mclass_type\u001b[0m\u001b[0;34m=\u001b[0m\u001b[0mclass_type\u001b[0m\u001b[0;34m,\u001b[0m\u001b[0;34m\u001b[0m\u001b[0;34m\u001b[0m\u001b[0m\n\u001b[1;32m    378\u001b[0m         \u001b[0mcalc_metrics\u001b[0m\u001b[0;34m=\u001b[0m\u001b[0mcalc_metrics\u001b[0m\u001b[0;34m,\u001b[0m\u001b[0;34m\u001b[0m\u001b[0;34m\u001b[0m\u001b[0m\n\u001b[0;32m--> 379\u001b[0;31m         \u001b[0mfile_name\u001b[0m\u001b[0;34m=\u001b[0m\u001b[0mfile_name\u001b[0m\u001b[0;34m\u001b[0m\u001b[0;34m\u001b[0m\u001b[0m\n\u001b[0m\u001b[1;32m    380\u001b[0m     )\n\u001b[1;32m    381\u001b[0m     \u001b[0;32mreturn\u001b[0m \u001b[0mmetric_dict\u001b[0m\u001b[0;34m,\u001b[0m \u001b[0mmodels\u001b[0m\u001b[0;34m\u001b[0m\u001b[0;34m\u001b[0m\u001b[0m\n",
      "\u001b[0;32m~/raman_spectras/raman_spectras/utils.py\u001b[0m in \u001b[0;36mtrain_template\u001b[0;34m(model, data, y, k_folds, description, class_type, calc_metrics, file_name)\u001b[0m\n\u001b[1;32m    138\u001b[0m     \u001b[0mcv\u001b[0m \u001b[0;34m=\u001b[0m \u001b[0mStratifiedKFold\u001b[0m\u001b[0;34m(\u001b[0m\u001b[0mn_splits\u001b[0m\u001b[0;34m=\u001b[0m\u001b[0mk_folds\u001b[0m\u001b[0;34m)\u001b[0m\u001b[0;34m\u001b[0m\u001b[0;34m\u001b[0m\u001b[0m\n\u001b[1;32m    139\u001b[0m     \u001b[0;32mfor\u001b[0m \u001b[0mi\u001b[0m\u001b[0;34m,\u001b[0m \u001b[0;34m(\u001b[0m\u001b[0mtrain\u001b[0m\u001b[0;34m,\u001b[0m \u001b[0mtest\u001b[0m\u001b[0;34m)\u001b[0m \u001b[0;32min\u001b[0m \u001b[0menumerate\u001b[0m\u001b[0;34m(\u001b[0m\u001b[0mcv\u001b[0m\u001b[0;34m.\u001b[0m\u001b[0msplit\u001b[0m\u001b[0;34m(\u001b[0m\u001b[0mnew_data\u001b[0m\u001b[0;34m,\u001b[0m \u001b[0mnew_y\u001b[0m\u001b[0;34m)\u001b[0m\u001b[0;34m)\u001b[0m\u001b[0;34m:\u001b[0m\u001b[0;34m\u001b[0m\u001b[0;34m\u001b[0m\u001b[0m\n\u001b[0;32m--> 140\u001b[0;31m         \u001b[0mmodel\u001b[0m\u001b[0;34m.\u001b[0m\u001b[0mfit\u001b[0m\u001b[0;34m(\u001b[0m\u001b[0mnew_data\u001b[0m\u001b[0;34m[\u001b[0m\u001b[0mtrain\u001b[0m\u001b[0;34m]\u001b[0m\u001b[0;34m,\u001b[0m \u001b[0mnew_y\u001b[0m\u001b[0;34m[\u001b[0m\u001b[0mtrain\u001b[0m\u001b[0;34m]\u001b[0m\u001b[0;34m)\u001b[0m\u001b[0;34m\u001b[0m\u001b[0;34m\u001b[0m\u001b[0m\n\u001b[0m\u001b[1;32m    141\u001b[0m         \u001b[0mmodels\u001b[0m\u001b[0;34m[\u001b[0m\u001b[0;34mf'{i+1} fold'\u001b[0m\u001b[0;34m]\u001b[0m \u001b[0;34m=\u001b[0m \u001b[0mmodel\u001b[0m\u001b[0;34m\u001b[0m\u001b[0;34m\u001b[0m\u001b[0m\n\u001b[1;32m    142\u001b[0m         \u001b[0my_pred\u001b[0m \u001b[0;34m=\u001b[0m \u001b[0mmodel\u001b[0m\u001b[0;34m.\u001b[0m\u001b[0mpredict\u001b[0m\u001b[0;34m(\u001b[0m\u001b[0mnew_data\u001b[0m\u001b[0;34m[\u001b[0m\u001b[0mtest\u001b[0m\u001b[0;34m]\u001b[0m\u001b[0;34m)\u001b[0m\u001b[0;34m\u001b[0m\u001b[0;34m\u001b[0m\u001b[0m\n",
      "\u001b[0;32m~/.local/lib/python3.7/site-packages/catboost/core.py\u001b[0m in \u001b[0;36mfit\u001b[0;34m(self, X, y, cat_features, text_features, embedding_features, sample_weight, baseline, use_best_model, eval_set, verbose, logging_level, plot, column_description, verbose_eval, metric_period, silent, early_stopping_rounds, save_snapshot, snapshot_file, snapshot_interval, init_model, callbacks, log_cout, log_cerr)\u001b[0m\n\u001b[1;32m   4768\u001b[0m         self._fit(X, y, cat_features, text_features, embedding_features, None, sample_weight, None, None, None, None, baseline, use_best_model,\n\u001b[1;32m   4769\u001b[0m                   \u001b[0meval_set\u001b[0m\u001b[0;34m,\u001b[0m \u001b[0mverbose\u001b[0m\u001b[0;34m,\u001b[0m \u001b[0mlogging_level\u001b[0m\u001b[0;34m,\u001b[0m \u001b[0mplot\u001b[0m\u001b[0;34m,\u001b[0m \u001b[0mcolumn_description\u001b[0m\u001b[0;34m,\u001b[0m \u001b[0mverbose_eval\u001b[0m\u001b[0;34m,\u001b[0m \u001b[0mmetric_period\u001b[0m\u001b[0;34m,\u001b[0m\u001b[0;34m\u001b[0m\u001b[0;34m\u001b[0m\u001b[0m\n\u001b[0;32m-> 4770\u001b[0;31m                   silent, early_stopping_rounds, save_snapshot, snapshot_file, snapshot_interval, init_model, callbacks, log_cout, log_cerr)\n\u001b[0m\u001b[1;32m   4771\u001b[0m         \u001b[0;32mreturn\u001b[0m \u001b[0mself\u001b[0m\u001b[0;34m\u001b[0m\u001b[0;34m\u001b[0m\u001b[0m\n\u001b[1;32m   4772\u001b[0m \u001b[0;34m\u001b[0m\u001b[0m\n",
      "\u001b[0;32m~/.local/lib/python3.7/site-packages/catboost/core.py\u001b[0m in \u001b[0;36m_fit\u001b[0;34m(self, X, y, cat_features, text_features, embedding_features, pairs, sample_weight, group_id, group_weight, subgroup_id, pairs_weight, baseline, use_best_model, eval_set, verbose, logging_level, plot, column_description, verbose_eval, metric_period, silent, early_stopping_rounds, save_snapshot, snapshot_file, snapshot_interval, init_model, callbacks, log_cout, log_cerr)\u001b[0m\n\u001b[1;32m   2092\u001b[0m                 \u001b[0mparams\u001b[0m\u001b[0;34m,\u001b[0m\u001b[0;34m\u001b[0m\u001b[0;34m\u001b[0m\u001b[0m\n\u001b[1;32m   2093\u001b[0m                 \u001b[0mallow_clear_pool\u001b[0m\u001b[0;34m,\u001b[0m\u001b[0;34m\u001b[0m\u001b[0;34m\u001b[0m\u001b[0m\n\u001b[0;32m-> 2094\u001b[0;31m                 \u001b[0mtrain_params\u001b[0m\u001b[0;34m[\u001b[0m\u001b[0;34m\"init_model\"\u001b[0m\u001b[0;34m]\u001b[0m\u001b[0;34m\u001b[0m\u001b[0;34m\u001b[0m\u001b[0m\n\u001b[0m\u001b[1;32m   2095\u001b[0m             )\n\u001b[1;32m   2096\u001b[0m \u001b[0;34m\u001b[0m\u001b[0m\n",
      "\u001b[0;32m~/.local/lib/python3.7/site-packages/catboost/core.py\u001b[0m in \u001b[0;36m_train\u001b[0;34m(self, train_pool, test_pool, params, allow_clear_pool, init_model)\u001b[0m\n\u001b[1;32m   1514\u001b[0m \u001b[0;34m\u001b[0m\u001b[0m\n\u001b[1;32m   1515\u001b[0m     \u001b[0;32mdef\u001b[0m \u001b[0m_train\u001b[0m\u001b[0;34m(\u001b[0m\u001b[0mself\u001b[0m\u001b[0;34m,\u001b[0m \u001b[0mtrain_pool\u001b[0m\u001b[0;34m,\u001b[0m \u001b[0mtest_pool\u001b[0m\u001b[0;34m,\u001b[0m \u001b[0mparams\u001b[0m\u001b[0;34m,\u001b[0m \u001b[0mallow_clear_pool\u001b[0m\u001b[0;34m,\u001b[0m \u001b[0minit_model\u001b[0m\u001b[0;34m)\u001b[0m\u001b[0;34m:\u001b[0m\u001b[0;34m\u001b[0m\u001b[0;34m\u001b[0m\u001b[0m\n\u001b[0;32m-> 1516\u001b[0;31m         \u001b[0mself\u001b[0m\u001b[0;34m.\u001b[0m\u001b[0m_object\u001b[0m\u001b[0;34m.\u001b[0m\u001b[0m_train\u001b[0m\u001b[0;34m(\u001b[0m\u001b[0mtrain_pool\u001b[0m\u001b[0;34m,\u001b[0m \u001b[0mtest_pool\u001b[0m\u001b[0;34m,\u001b[0m \u001b[0mparams\u001b[0m\u001b[0;34m,\u001b[0m \u001b[0mallow_clear_pool\u001b[0m\u001b[0;34m,\u001b[0m \u001b[0minit_model\u001b[0m\u001b[0;34m.\u001b[0m\u001b[0m_object\u001b[0m \u001b[0;32mif\u001b[0m \u001b[0minit_model\u001b[0m \u001b[0;32melse\u001b[0m \u001b[0;32mNone\u001b[0m\u001b[0;34m)\u001b[0m\u001b[0;34m\u001b[0m\u001b[0;34m\u001b[0m\u001b[0m\n\u001b[0m\u001b[1;32m   1517\u001b[0m         \u001b[0mself\u001b[0m\u001b[0;34m.\u001b[0m\u001b[0m_set_trained_model_attributes\u001b[0m\u001b[0;34m(\u001b[0m\u001b[0;34m)\u001b[0m\u001b[0;34m\u001b[0m\u001b[0;34m\u001b[0m\u001b[0m\n\u001b[1;32m   1518\u001b[0m \u001b[0;34m\u001b[0m\u001b[0m\n",
      "\u001b[0;32m_catboost.pyx\u001b[0m in \u001b[0;36m_catboost._CatBoost._train\u001b[0;34m()\u001b[0m\n",
      "\u001b[0;32m_catboost.pyx\u001b[0m in \u001b[0;36m_catboost._CatBoost._train\u001b[0;34m()\u001b[0m\n",
      "\u001b[0;31mKeyboardInterrupt\u001b[0m: "
     ]
    }
   ],
   "source": [
    "import warnings\n",
    "warnings.filterwarnings('ignore')\n",
    "\n",
    "description_tuple=(\n",
    "    'the first dataset with 35 gaussian peaks using RandomForest', \n",
    "    'the first dataset with 35 gaussian peaks using XGBoost', \n",
    "    'the first dataset with 35 gaussian peaks using CatBoost', \n",
    ") \n",
    "file_names_tuple=(\n",
    "    \"metrics/metrics_random_forest_first_dataset.txt\",\n",
    "    \"metrics/metrics_xgboost_first_dataset.txt\",\n",
    "    \"metrics/metrics_catboost_first_dataset.txt\",\n",
    ")\n",
    "\n",
    "def_tuple=(random_forest_train, xgboost_train, catboost_train)\n",
    "\n",
    "metrics_first_dataset = train_models(\n",
    "#     spectras, \n",
    "#     np.concatenate((np.zeros_like(spectra_labels.reshape(-1, 1)), spectra_labels.reshape(-1, 1)), axis=1),\n",
    "    X, \n",
    "    y, \n",
    "    def_tuple=def_tuple, \n",
    "    description_tuple=description_tuple, \n",
    "    file_names_tuple=file_names_tuple\n",
    ")"
   ]
  },
  {
   "cell_type": "code",
   "execution_count": null,
   "id": "0745021a",
   "metadata": {},
   "outputs": [],
   "source": []
  },
  {
   "cell_type": "code",
   "execution_count": null,
   "id": "75496e2f",
   "metadata": {},
   "outputs": [],
   "source": []
  }
 ],
 "metadata": {
  "kernelspec": {
   "display_name": "raman_env",
   "language": "python",
   "name": "raman_env"
  },
  "language_info": {
   "codemirror_mode": {
    "name": "ipython",
    "version": 3
   },
   "file_extension": ".py",
   "mimetype": "text/x-python",
   "name": "python",
   "nbconvert_exporter": "python",
   "pygments_lexer": "ipython3",
   "version": "3.7.13"
  }
 },
 "nbformat": 4,
 "nbformat_minor": 5
}
