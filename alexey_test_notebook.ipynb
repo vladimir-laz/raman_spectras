{
 "cells": [
  {
   "cell_type": "code",
   "execution_count": 1,
   "id": "02ed7219",
   "metadata": {},
   "outputs": [],
   "source": [
    "import pandas as pd\n",
    "import numpy as np\n",
    "from sklearn.model_selection import train_test_split\n",
    "from matplotlib import pyplot as plt\n",
    "import random\n",
    "import pickle"
   ]
  },
  {
   "cell_type": "code",
   "execution_count": 2,
   "id": "4d064401",
   "metadata": {},
   "outputs": [],
   "source": [
    "from sklearn.manifold import TSNE, MDS\n",
    "from sklearn.decomposition import PCA, NMF, SparsePCA, TruncatedSVD, FastICA, FactorAnalysis\n",
    "from sklearn.neighbors import KNeighborsClassifier\n",
    "from sklearn.pipeline import make_pipeline\n",
    "from tqdm.notebook import tqdm"
   ]
  },
  {
   "cell_type": "code",
   "execution_count": 3,
   "id": "f871150a",
   "metadata": {},
   "outputs": [
    {
     "name": "stderr",
     "output_type": "stream",
     "text": [
      "/home/lazarev/.local/lib/python3.7/site-packages/pkg_resources/__init__.py:125: PkgResourcesDeprecationWarning: 0.18ubuntu0.18.04.1 is an invalid version and will not be supported in a future release\n",
      "  PkgResourcesDeprecationWarning,\n"
     ]
    }
   ],
   "source": [
    "from utils import (\n",
    "    train_template,\n",
    "    get_metrics, \n",
    "    random_forest_train, \n",
    "    xgboost_train, \n",
    "    catboost_train\n",
    ")"
   ]
  },
  {
   "cell_type": "code",
   "execution_count": 4,
   "id": "fb0cbaa4",
   "metadata": {},
   "outputs": [
    {
     "name": "stdout",
     "output_type": "stream",
     "text": [
      "old fg classes: {1, 2, 3, 4, 5, 7, 8, 9, 10, 11}\n",
      "new fg classes: {0, 1, 2, 3, 4, 5, 6, 7, 8, 9}\n",
      "\n",
      "old ga classes: {2, 3, 5, 6}\n",
      "new ga classes: {10, 11, 12, 13}\n"
     ]
    }
   ],
   "source": [
    "def data_loading(ga_file, fg_file, header=None):\n",
    "    data_ga = pd.read_csv(ga_file, sep=\";\", header=header)\n",
    "    data_fg = pd.read_csv(fg_file, sep=\";\", header=header)\n",
    "    columns = data_ga.columns.values\n",
    "#     print(f\"data with GA samples shape: {data_ga.shape}\")\n",
    "#     print(f\"data with FG samples shape: {data_fg.shape}\")\n",
    "    y_fg = data_fg[columns[0]].values\n",
    "    X_fg = data_fg.drop(columns=columns[0])\n",
    "\n",
    "    y_ga = data_ga[columns[0]].values\n",
    "    X_ga = data_ga.drop(columns=columns[0])\n",
    "#     print(f\"shapes of X and y of FG samples respectively is: {X_fg.shape}, {y_fg.shape}\")\n",
    "#     print(f\"shapes of X and y of GA samples respectively is: {X_ga.shape}, {y_ga.shape}\")\n",
    "    \n",
    "    print(f\"old fg classes: {set(y_fg)}\")\n",
    "    for index, element in enumerate(set(y_fg)):\n",
    "        y_fg[y_fg == element] = index\n",
    "    print(f\"new fg classes: {set(y_fg)}\\n\")\n",
    "\n",
    "    print(f\"old ga classes: {set(y_ga)}\")\n",
    "    for index, element in enumerate(set(y_ga)):\n",
    "        y_ga[y_ga == element] = index + len(set(y_fg))\n",
    "    print(f\"new ga classes: {set(y_ga)}\")\n",
    "    \n",
    "    group1 = [0, 1, 2, 3, 4]\n",
    "    group2 = [5, 6, 7, 8, 9]\n",
    "    group3 = [10, 11]\n",
    "    group4 = [12, 13]\n",
    "    groups = [group1, group2, group3, group4]\n",
    "\n",
    "    def add_group(y, groups):\n",
    "        new_y = np.zeros((y.shape[0], 2))\n",
    "        new_y[:, 1] = y\n",
    "        for group_num, group in enumerate(groups):\n",
    "            for class_num in group:\n",
    "                new_y[y==class_num] = np.array([group_num, class_num])\n",
    "        return new_y\n",
    "    \n",
    "    y = np.concatenate((y_fg, y_ga), axis=0)\n",
    "    X = np.concatenate((X_fg, X_ga), axis=0)\n",
    "    \n",
    "#     X = X.reshape(X.shape[0], 1, -1)\n",
    "    y = add_group(y, groups)\n",
    "#     print(f\"shapes of X and y is respectively: {X.shape}, {y.shape}\")\n",
    "    \n",
    "    return X, y\n",
    "\n",
    "X, y = data_loading(\n",
    "    fg_file=\"dataSrc/fg_1-5_7-11.csv\", \n",
    "    ga_file=\"dataSrc/ga_2_3_5_6.csv\",\n",
    "    header='infer'\n",
    ")\n",
    "# print(X.shape, y.shape)"
   ]
  },
  {
   "cell_type": "code",
   "execution_count": 10,
   "id": "81734f45",
   "metadata": {},
   "outputs": [],
   "source": [
    "def split_dataset(\n",
    "    X=None, \n",
    "    y=None, \n",
    "    first_file=\"dataSrc/ga_2_3_5_6.csv\", \n",
    "    second_file=\"dataSrc/fg_1-5_7-11.csv\", \n",
    "    header=None,\n",
    "    classes='all'\n",
    "):\n",
    "    if X is None and y is None:\n",
    "        X, y = data_loading(first_file, second_file, header)\n",
    "    if classes == 'fibrinogen':\n",
    "#     fibrinogen classes:\n",
    "        first_dataset_classes = [0, 1, 2, 3, 4]\n",
    "        second_dataset_classes = [5, 6, 7, 8, 9]\n",
    "    elif classes == 'albumin':\n",
    "#     albumin classes:\n",
    "        first_dataset_classes = [10, 12]\n",
    "        second_dataset_classes = [11, 13]\n",
    "    elif classes == 'all':\n",
    "#     all classes:\n",
    "        first_dataset_classes = [0, 1, 2, 3, 4, 10, 12]\n",
    "        second_dataset_classes = [5, 6, 7, 8, 9, 11, 13]\n",
    "    \n",
    "    first_x = np.array([]).reshape((0, X.shape[1]))\n",
    "    first_y = np.array([]).reshape((0, y.shape[1]))\n",
    "    for i in first_dataset_classes:\n",
    "        first_x = np.concatenate((first_x, X[y[:, 1] == i]), axis=0)\n",
    "        first_y = np.concatenate((first_y, y[y[:, 1] == i]), axis=0)\n",
    "\n",
    "    second_x = np.array([]).reshape((0, X.shape[1]))\n",
    "    second_y = np.array([]).reshape((0, y.shape[1]))\n",
    "    for i in second_dataset_classes:\n",
    "        second_x = np.concatenate((second_x, X[y[:, 1] == i]), axis=0)\n",
    "        second_y = np.concatenate((second_y, y[y[:, 1] == i]), axis=0)\n",
    "        \n",
    "    for array in (first_x, second_x):\n",
    "        array[np.isnan(array)] = 0\n",
    "        \n",
    "    print(first_x.shape, first_y.shape, second_x.shape, second_y.shape)\n",
    "    return first_x, first_y, second_x, second_y"
   ]
  },
  {
   "cell_type": "code",
   "execution_count": 7,
   "id": "dfd790cc",
   "metadata": {},
   "outputs": [
    {
     "name": "stdout",
     "output_type": "stream",
     "text": [
      "old fg classes: {1, 2, 3, 4, 5, 7, 8, 9, 10, 11}\n",
      "new fg classes: {0, 1, 2, 3, 4, 5, 6, 7, 8, 9}\n",
      "\n",
      "old ga classes: {2, 3, 5, 6}\n",
      "new ga classes: {10, 11, 12, 13}\n",
      "(340, 994) (340, 2) (229, 994) (229, 2)\n"
     ]
    },
    {
     "data": {
      "text/plain": [
       "((340, 994), (340, 2), (229, 994), (229, 2))"
      ]
     },
     "execution_count": 7,
     "metadata": {},
     "output_type": "execute_result"
    }
   ],
   "source": [
    "X_first, y_first, X_second, y_second = split_dataset(\n",
    "    X=None,\n",
    "    y=None,\n",
    "    first_file=\"dataSrc/ga_2_3_5_6.csv\", \n",
    "    second_file=\"dataSrc/fg_1-5_7-11.csv\", \n",
    "    header='infer', \n",
    "    classes='fibrinogen'\n",
    ")\n",
    "\n",
    "X_first.shape, y_first.shape, X_second.shape, y_second.shape"
   ]
  },
  {
   "cell_type": "code",
   "execution_count": 8,
   "id": "464f600c",
   "metadata": {},
   "outputs": [
    {
     "data": {
      "text/plain": [
       "((569, 994), (569, 2))"
      ]
     },
     "execution_count": 8,
     "metadata": {},
     "output_type": "execute_result"
    }
   ],
   "source": [
    "X_full = np.vstack((X_first, X_second))\n",
    "y_full = np.vstack((y_first, y_second))\n",
    "\n",
    "X_full.shape, y_full.shape"
   ]
  },
  {
   "cell_type": "code",
   "execution_count": null,
   "id": "fc0c50d1",
   "metadata": {},
   "outputs": [],
   "source": []
  }
 ],
 "metadata": {
  "kernelspec": {
   "display_name": "Python 3 (ipykernel)",
   "language": "python",
   "name": "python3"
  },
  "language_info": {
   "codemirror_mode": {
    "name": "ipython",
    "version": 3
   },
   "file_extension": ".py",
   "mimetype": "text/x-python",
   "name": "python",
   "nbconvert_exporter": "python",
   "pygments_lexer": "ipython3",
   "version": "3.10.13"
  }
 },
 "nbformat": 4,
 "nbformat_minor": 5
}
